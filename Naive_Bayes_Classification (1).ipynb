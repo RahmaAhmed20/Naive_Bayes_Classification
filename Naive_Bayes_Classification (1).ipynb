{
  "cells": [
    {
      "cell_type": "code",
      "source": [
        "# importing the libraries\n",
        "import numpy as np\n",
        "import matplotlib.pyplot as plt\n",
        "import pandas as pd\n",
        "import seaborn as sns"
      ],
      "metadata": {
        "id": "J0KMEBmUZRr-"
      },
      "execution_count": 29,
      "outputs": []
    },
    {
      "cell_type": "code",
      "source": [
        "data = pd.read_csv('/content/data.csv')"
      ],
      "metadata": {
        "id": "hXCMBsqNufTE"
      },
      "execution_count": 30,
      "outputs": []
    },
    {
      "cell_type": "code",
      "source": [
        "print(data)"
      ],
      "metadata": {
        "id": "GKvMnecvQD4K",
        "colab": {
          "base_uri": "https://localhost:8080/"
        },
        "outputId": "0cb14013-d5ca-4a70-afb0-f088eceac60c"
      },
      "execution_count": 31,
      "outputs": [
        {
          "output_type": "stream",
          "name": "stdout",
          "text": [
            "      Loan_ID Gender Married Dependents     Education Self_Employed  \\\n",
            "0    LP001002   Male      No          0      Graduate            No   \n",
            "1    LP001003   Male     Yes          1      Graduate            No   \n",
            "2    LP001005   Male     Yes          0      Graduate           Yes   \n",
            "3    LP001006   Male     Yes          0  Not Graduate            No   \n",
            "4    LP001008   Male      No          0      Graduate            No   \n",
            "..        ...    ...     ...        ...           ...           ...   \n",
            "976  LP002971   Male     Yes         3+  Not Graduate           Yes   \n",
            "977  LP002975   Male     Yes          0      Graduate            No   \n",
            "978  LP002980   Male      No          0      Graduate            No   \n",
            "979  LP002986   Male     Yes          0      Graduate            No   \n",
            "980  LP002989   Male      No          0      Graduate           Yes   \n",
            "\n",
            "     ApplicantIncome  CoapplicantIncome  LoanAmount  Loan_Amount_Term  \\\n",
            "0               5849                0.0         NaN             360.0   \n",
            "1               4583             1508.0       128.0             360.0   \n",
            "2               3000                0.0        66.0             360.0   \n",
            "3               2583             2358.0       120.0             360.0   \n",
            "4               6000                0.0       141.0             360.0   \n",
            "..               ...                ...         ...               ...   \n",
            "976             4009             1777.0       113.0             360.0   \n",
            "977             4158              709.0       115.0             360.0   \n",
            "978             3250             1993.0       126.0             360.0   \n",
            "979             5000             2393.0       158.0             360.0   \n",
            "980             9200                0.0        98.0             180.0   \n",
            "\n",
            "     Credit_History Property_Area Loan_Status  \n",
            "0               1.0         Urban           Y  \n",
            "1               1.0         Rural           N  \n",
            "2               1.0         Urban           Y  \n",
            "3               1.0         Urban           Y  \n",
            "4               1.0         Urban           Y  \n",
            "..              ...           ...         ...  \n",
            "976             1.0         Urban         NaN  \n",
            "977             1.0         Urban         NaN  \n",
            "978             NaN     Semiurban         NaN  \n",
            "979             1.0         Rural         NaN  \n",
            "980             1.0         Rural         NaN  \n",
            "\n",
            "[981 rows x 13 columns]\n"
          ]
        }
      ]
    },
    {
      "cell_type": "code",
      "source": [
        "X = data.iloc[:,2]\n",
        "y = data.iloc[:, 2].values"
      ],
      "metadata": {
        "id": "QsuQdMLHrh7o"
      },
      "execution_count": 32,
      "outputs": []
    },
    {
      "cell_type": "code",
      "source": [],
      "metadata": {
        "id": "5BjzipcUZDN7"
      },
      "execution_count": 32,
      "outputs": []
    },
    {
      "cell_type": "code",
      "source": [
        "#xx = test.iloc[:, 2].values\n",
        "#yy = test.iloc[:, 4].values"
      ],
      "metadata": {
        "id": "s9kyea2pWlGN"
      },
      "execution_count": 33,
      "outputs": []
    },
    {
      "cell_type": "code",
      "source": [
        "print(X,y)"
      ],
      "metadata": {
        "id": "3TAYih9Bu3x4",
        "colab": {
          "base_uri": "https://localhost:8080/"
        },
        "outputId": "d166f268-2700-47d0-80ba-d1bbba5ad313"
      },
      "execution_count": 34,
      "outputs": [
        {
          "output_type": "stream",
          "name": "stdout",
          "text": [
            "0       No\n",
            "1      Yes\n",
            "2      Yes\n",
            "3      Yes\n",
            "4       No\n",
            "      ... \n",
            "976    Yes\n",
            "977    Yes\n",
            "978     No\n",
            "979    Yes\n",
            "980     No\n",
            "Name: Married, Length: 981, dtype: object ['No' 'Yes' 'Yes' 'Yes' 'No' 'Yes' 'Yes' 'Yes' 'Yes' 'Yes' 'Yes' 'Yes'\n",
            " 'Yes' 'No' 'Yes' 'No' 'No' 'No' 'Yes' 'Yes' 'Yes' 'Yes' 'Yes' 'Yes' 'Yes'\n",
            " 'Yes' 'Yes' 'Yes' 'No' 'No' 'Yes' 'No' 'No' 'Yes' 'No' 'Yes' 'Yes' 'Yes'\n",
            " 'No' 'No' 'No' 'No' 'Yes' 'Yes' 'Yes' 'No' 'Yes' 'Yes' 'Yes' 'No' 'Yes'\n",
            " 'No' 'No' 'Yes' 'Yes' 'Yes' 'Yes' 'Yes' 'Yes' 'Yes' 'Yes' 'Yes' 'Yes'\n",
            " 'Yes' 'No' 'Yes' 'No' 'Yes' 'Yes' 'No' 'Yes' 'Yes' 'No' 'Yes' 'Yes' 'No'\n",
            " 'No' 'Yes' 'Yes' 'Yes' 'No' 'Yes' 'Yes' 'Yes' 'Yes' 'No' 'Yes' 'Yes' 'No'\n",
            " 'Yes' 'Yes' 'Yes' 'Yes' 'No' 'No' 'No' 'Yes' 'Yes' 'Yes' 'Yes' 'Yes' 'No'\n",
            " 'Yes' 'Yes' 'No' 'Yes' 'Yes' 'No' 'Yes' 'Yes' 'No' 'Yes' 'Yes' 'No' 'No'\n",
            " 'Yes' 'Yes' 'Yes' 'Yes' 'No' 'Yes' 'No' 'No' 'Yes' 'Yes' 'No' 'Yes' 'No'\n",
            " 'Yes' 'Yes' 'No' 'No' 'No' 'Yes' 'No' 'Yes' 'Yes' 'Yes' 'No' 'Yes' 'Yes'\n",
            " 'No' 'No' 'Yes' 'Yes' 'Yes' 'Yes' 'Yes' 'No' 'Yes' 'No' 'Yes' 'No' 'Yes'\n",
            " 'No' 'Yes' 'Yes' 'Yes' 'No' 'Yes' 'Yes' 'Yes' 'Yes' 'Yes' 'Yes' 'Yes'\n",
            " 'Yes' 'Yes' 'No' 'Yes' 'Yes' 'Yes' 'Yes' 'Yes' 'Yes' 'Yes' 'Yes' 'Yes'\n",
            " 'Yes' 'No' 'Yes' 'No' 'Yes' 'Yes' 'Yes' 'Yes' 'Yes' 'Yes' 'Yes' 'Yes'\n",
            " 'No' 'No' 'Yes' 'No' 'No' 'Yes' 'No' 'No' 'Yes' 'No' 'Yes' 'No' 'Yes'\n",
            " 'Yes' 'Yes' 'No' 'No' 'No' 'No' 'No' 'No' 'Yes' 'Yes' 'Yes' 'Yes' 'Yes'\n",
            " 'Yes' 'Yes' 'Yes' 'Yes' 'Yes' 'Yes' 'No' 'Yes' 'Yes' 'Yes' 'Yes' 'Yes'\n",
            " nan 'No' 'Yes' 'Yes' 'No' 'No' 'Yes' 'Yes' 'Yes' 'No' 'No' 'Yes' 'Yes'\n",
            " 'Yes' 'No' 'Yes' 'Yes' 'No' 'Yes' 'Yes' 'Yes' 'Yes' 'Yes' 'No' 'No' 'Yes'\n",
            " 'No' 'No' 'No' 'Yes' 'Yes' 'Yes' 'Yes' 'No' 'No' 'No' 'No' 'No' 'Yes'\n",
            " 'Yes' 'No' 'No' 'No' 'Yes' 'No' 'Yes' 'Yes' 'Yes' 'Yes' 'Yes' 'Yes' 'Yes'\n",
            " 'No' 'Yes' 'Yes' 'No' 'Yes' 'No' 'No' 'Yes' 'No' 'No' 'Yes' 'Yes' 'Yes'\n",
            " 'No' 'Yes' 'Yes' 'Yes' 'Yes' 'No' 'Yes' 'Yes' 'Yes' 'No' 'Yes' 'No' 'No'\n",
            " 'No' 'No' 'No' 'Yes' 'No' 'No' 'No' 'Yes' 'Yes' 'Yes' 'Yes' 'Yes' 'No'\n",
            " 'Yes' 'Yes' 'Yes' 'Yes' 'No' 'Yes' 'Yes' 'No' 'Yes' 'Yes' 'No' 'No' 'No'\n",
            " 'No' 'Yes' 'Yes' 'Yes' 'Yes' 'Yes' 'No' 'No' 'Yes' 'No' 'Yes' 'Yes' 'Yes'\n",
            " 'Yes' 'Yes' 'Yes' 'Yes' 'Yes' 'Yes' 'No' 'Yes' 'Yes' 'Yes' 'No' 'Yes'\n",
            " 'Yes' 'Yes' 'Yes' 'No' 'Yes' 'Yes' 'Yes' 'No' 'No' 'No' 'No' 'Yes' 'Yes'\n",
            " 'No' 'Yes' 'Yes' 'No' 'No' 'Yes' 'Yes' 'Yes' 'No' 'Yes' 'Yes' 'No' 'No'\n",
            " 'No' 'Yes' 'No' 'No' 'Yes' 'Yes' 'Yes' 'No' 'Yes' 'Yes' 'Yes' 'Yes' 'Yes'\n",
            " 'No' 'Yes' 'No' 'No' 'Yes' 'No' 'No' 'No' 'No' 'No' 'Yes' 'No' 'Yes'\n",
            " 'Yes' 'No' 'Yes' 'Yes' 'Yes' 'Yes' 'No' 'No' 'Yes' 'Yes' 'Yes' 'Yes' 'No'\n",
            " 'Yes' 'Yes' 'Yes' 'Yes' 'No' 'Yes' 'Yes' 'No' 'No' 'No' 'No' 'Yes' 'No'\n",
            " 'Yes' 'No' 'Yes' 'No' 'Yes' 'No' 'Yes' 'No' 'No' 'Yes' 'Yes' 'Yes' 'Yes'\n",
            " 'Yes' 'No' 'Yes' 'Yes' 'Yes' 'Yes' 'No' 'Yes' 'Yes' 'Yes' 'No' 'Yes'\n",
            " 'Yes' 'Yes' 'Yes' 'No' 'No' 'No' 'Yes' 'Yes' 'Yes' 'Yes' 'Yes' 'Yes'\n",
            " 'Yes' 'No' 'No' 'Yes' 'Yes' 'Yes' 'Yes' 'Yes' 'No' 'Yes' 'Yes' 'Yes'\n",
            " 'Yes' 'Yes' 'No' 'Yes' 'Yes' 'No' 'No' 'Yes' 'No' 'No' 'Yes' 'Yes' 'Yes'\n",
            " 'Yes' 'Yes' 'No' 'No' 'No' 'Yes' 'Yes' 'Yes' 'Yes' 'Yes' 'No' 'Yes' 'No'\n",
            " 'No' 'Yes' 'Yes' 'Yes' 'No' 'Yes' 'Yes' 'Yes' 'No' 'No' 'Yes' 'No' 'Yes'\n",
            " 'Yes' 'No' 'Yes' 'Yes' 'Yes' 'No' 'No' 'Yes' 'Yes' 'No' 'No' 'No' 'No'\n",
            " 'Yes' 'No' 'Yes' 'Yes' 'Yes' 'No' 'No' 'Yes' 'Yes' 'Yes' 'No' 'No' 'No'\n",
            " 'Yes' 'Yes' 'Yes' 'Yes' 'Yes' 'Yes' 'Yes' 'No' 'Yes' 'Yes' 'Yes' 'Yes'\n",
            " 'Yes' 'Yes' 'No' 'Yes' 'Yes' 'No' 'Yes' 'No' 'Yes' 'Yes' 'Yes' 'Yes'\n",
            " 'Yes' 'Yes' 'Yes' 'Yes' 'No' 'Yes' 'No' 'Yes' 'No' 'Yes' 'Yes' 'Yes'\n",
            " 'Yes' 'Yes' 'No' 'No' 'Yes' 'Yes' 'Yes' 'No' 'Yes' 'Yes' 'No' 'Yes' 'No'\n",
            " 'Yes' 'Yes' 'No' 'Yes' 'Yes' 'No' 'Yes' 'Yes' 'Yes' 'Yes' 'Yes' 'No'\n",
            " 'Yes' 'Yes' 'Yes' 'No' 'Yes' 'Yes' 'Yes' 'Yes' 'No' 'Yes' 'No' 'Yes'\n",
            " 'Yes' 'No' 'No' 'Yes' 'No' 'Yes' 'No' 'No' 'Yes' 'Yes' 'Yes' 'No' 'Yes'\n",
            " 'No' 'No' 'No' 'Yes' 'No' 'Yes' 'Yes' 'Yes' 'No' 'No' 'Yes' 'No' 'Yes'\n",
            " 'Yes' 'No' 'Yes' 'Yes' 'No' 'No' 'Yes' 'No' 'Yes' 'No' 'No' 'Yes' 'Yes'\n",
            " 'No' 'No' 'Yes' 'Yes' 'Yes' 'Yes' 'Yes' 'Yes' 'No' 'No' 'Yes' 'Yes' 'Yes'\n",
            " 'Yes' 'Yes' 'No' 'No' 'Yes' 'Yes' 'Yes' 'Yes' 'Yes' 'Yes' 'No' 'No' 'Yes'\n",
            " 'Yes' 'Yes' 'No' 'Yes' 'No' 'Yes' 'Yes' 'Yes' 'Yes' 'Yes' 'Yes' 'Yes'\n",
            " 'Yes' 'Yes' 'No' 'No' 'No' 'Yes' 'Yes' 'Yes' 'Yes' 'Yes' 'Yes' 'Yes'\n",
            " 'Yes' 'Yes' 'Yes' 'No' 'Yes' 'Yes' 'Yes' 'No' 'Yes' 'No' 'Yes' 'Yes'\n",
            " 'Yes' 'No' 'Yes' 'No' 'Yes' 'Yes' 'No' 'No' 'Yes' 'No' 'Yes' 'No' 'Yes'\n",
            " 'Yes' 'No' 'No' 'No' 'No' 'Yes' 'No' 'Yes' 'Yes' 'No' 'Yes' 'No' 'No'\n",
            " 'Yes' 'Yes' 'Yes' 'No' 'No' 'No' 'Yes' 'Yes' 'Yes' 'Yes' 'No' 'No' 'No'\n",
            " 'Yes' 'No' 'No' 'Yes' 'No' 'Yes' 'Yes' 'No' 'Yes' 'Yes' 'No' 'Yes' 'No'\n",
            " 'No' 'No' 'No' 'No' 'No' 'No' 'Yes' 'Yes' 'Yes' 'No' 'Yes' 'Yes' 'No'\n",
            " 'Yes' 'Yes' 'Yes' 'No' 'Yes' 'Yes' 'Yes' 'Yes' 'Yes' 'Yes' 'Yes' 'Yes'\n",
            " 'Yes' 'Yes' 'Yes' 'Yes' 'Yes' 'No' 'Yes' 'Yes' 'Yes' 'No' 'Yes' 'Yes'\n",
            " 'Yes' 'Yes' 'Yes' 'Yes' 'Yes' 'Yes' 'No' 'Yes' 'Yes' 'Yes' 'No' 'No' 'No'\n",
            " 'No' 'Yes' 'No' 'Yes' 'Yes' 'Yes' 'Yes' 'Yes' 'Yes' 'Yes' 'Yes' 'Yes'\n",
            " 'No' 'No' 'No' 'Yes' 'Yes' 'No' 'Yes' 'No' 'No' 'Yes' 'No' 'Yes' 'No'\n",
            " 'No' 'Yes' 'Yes' 'No' 'No' 'Yes' 'Yes' 'Yes' 'No' 'Yes' 'Yes' 'Yes' 'Yes'\n",
            " 'No' 'Yes' 'Yes' 'No' 'Yes' 'Yes' 'No' 'Yes' 'Yes' 'Yes' 'No' 'Yes' 'Yes'\n",
            " 'No' 'Yes' 'Yes' 'No' 'Yes' 'No' 'Yes' 'No' 'Yes' 'No' 'No' 'Yes' 'No'\n",
            " 'Yes' 'Yes' 'No' 'Yes' 'No' 'No' 'Yes' 'No' 'No' 'Yes' 'Yes' 'Yes' 'No'\n",
            " 'No' 'Yes' 'Yes' 'Yes' 'No' 'Yes' 'Yes' 'Yes' 'No' 'No' 'Yes' 'Yes' 'Yes'\n",
            " 'Yes' 'No' 'Yes' 'Yes' 'No' 'Yes' 'Yes' 'Yes' 'Yes' 'No' 'No' 'No' 'Yes'\n",
            " 'No' 'Yes' 'Yes' 'Yes' 'No' 'No' 'Yes' 'Yes' 'Yes' 'No' 'Yes' 'No' 'Yes'\n",
            " 'Yes' 'Yes' 'Yes' 'Yes' 'Yes' 'Yes' 'Yes' 'Yes' 'No' 'No' 'Yes' 'Yes'\n",
            " 'No' 'Yes' 'No' 'Yes' 'Yes' 'No' 'Yes' 'Yes' 'No' 'Yes' 'Yes' 'Yes' 'No'\n",
            " 'Yes' 'Yes' 'Yes' 'Yes' 'Yes' 'No' 'Yes' 'No' 'Yes' 'Yes' 'Yes' 'Yes'\n",
            " 'No' 'Yes' 'No']\n"
          ]
        }
      ]
    },
    {
      "cell_type": "code",
      "source": [
        "from sklearn.model_selection import train_test_split\n",
        "X_train, X_test, y_train, y_test =train_test_split(X,y,test_size= 0.25, random_state=0)"
      ],
      "metadata": {
        "id": "15hUf7ABe7B-"
      },
      "execution_count": 35,
      "outputs": []
    },
    {
      "cell_type": "code",
      "source": [],
      "metadata": {
        "id": "Ubt1cGntIqHp"
      },
      "execution_count": 35,
      "outputs": []
    },
    {
      "cell_type": "code",
      "source": [
        "print(X_train)"
      ],
      "metadata": {
        "id": "tAjFQ72vIzXF",
        "colab": {
          "base_uri": "https://localhost:8080/"
        },
        "outputId": "5d2e08b9-b53e-4fd4-e26b-1016f06a554d"
      },
      "execution_count": 36,
      "outputs": [
        {
          "output_type": "stream",
          "name": "stdout",
          "text": [
            "761     No\n",
            "140    Yes\n",
            "279    Yes\n",
            "479    Yes\n",
            "283     No\n",
            "      ... \n",
            "835    Yes\n",
            "192    Yes\n",
            "629     No\n",
            "559    Yes\n",
            "684     No\n",
            "Name: Married, Length: 735, dtype: object\n"
          ]
        }
      ]
    },
    {
      "cell_type": "code",
      "source": [
        "from sklearn import preprocessing\n"
      ],
      "metadata": {
        "id": "IqhdoMR8zJPA"
      },
      "execution_count": 37,
      "outputs": []
    },
    {
      "cell_type": "code",
      "source": [
        "#X_train, X_test, y_train, y_test =train_test_split(X,y,test_size= 0.25, random_state=0)\n",
        "\n",
        "# importing standard scaler\n",
        "from sklearn.preprocessing import StandardScaler\n",
        "\n",
        "le = preprocessing.LabelEncoder()\n",
        "X_trainn=le.fit_transform(X_train)\n",
        "#X_trainnn = np.reshape(X_trainn , (2, 1))\n",
        "\n",
        "y_trainn=le.fit_transform(y_train)\n",
        "#y_trainnn = np.reshape(y_trainn , (-1, 1))\n",
        "\n",
        "X_testt=le.fit_transform(X_test)\n",
        "#X_testtt = np.reshape(X_testt , (-1, 1))\n",
        "\n",
        "#print(X_trainn)\n",
        "# scalling the input data\n",
        "sc_X = StandardScaler()\n",
        "X_trainnn = sc_X.fit_transform(X_trainn.reshape(-1,1))\n",
        "y_trainnn = sc_X.fit_transform(y_trainn.reshape(-1,1))\n",
        "X_testtt = sc_X.fit_transform(X_testt.reshape(-1,1))"
      ],
      "metadata": {
        "id": "rHmYGTC8w5vf"
      },
      "execution_count": 38,
      "outputs": []
    },
    {
      "cell_type": "code",
      "source": [
        "print(X_testtt)"
      ],
      "metadata": {
        "id": "qFH08eBGSoDo",
        "colab": {
          "base_uri": "https://localhost:8080/"
        },
        "outputId": "3c211221-e091-4a96-9260-39a2c0caac24"
      },
      "execution_count": 39,
      "outputs": [
        {
          "output_type": "stream",
          "name": "stdout",
          "text": [
            "[[-1.31656118]\n",
            " [ 0.75955453]\n",
            " [ 0.75955453]\n",
            " [ 0.75955453]\n",
            " [ 0.75955453]\n",
            " [-1.31656118]\n",
            " [ 0.75955453]\n",
            " [-1.31656118]\n",
            " [ 0.75955453]\n",
            " [ 0.75955453]\n",
            " [-1.31656118]\n",
            " [ 0.75955453]\n",
            " [ 0.75955453]\n",
            " [-1.31656118]\n",
            " [ 0.75955453]\n",
            " [ 0.75955453]\n",
            " [ 0.75955453]\n",
            " [ 0.75955453]\n",
            " [ 0.75955453]\n",
            " [ 0.75955453]\n",
            " [ 0.75955453]\n",
            " [-1.31656118]\n",
            " [ 0.75955453]\n",
            " [ 0.75955453]\n",
            " [-1.31656118]\n",
            " [-1.31656118]\n",
            " [-1.31656118]\n",
            " [-1.31656118]\n",
            " [ 0.75955453]\n",
            " [ 0.75955453]\n",
            " [-1.31656118]\n",
            " [ 0.75955453]\n",
            " [ 0.75955453]\n",
            " [-1.31656118]\n",
            " [ 0.75955453]\n",
            " [-1.31656118]\n",
            " [-1.31656118]\n",
            " [-1.31656118]\n",
            " [ 0.75955453]\n",
            " [-1.31656118]\n",
            " [-1.31656118]\n",
            " [ 0.75955453]\n",
            " [ 0.75955453]\n",
            " [ 0.75955453]\n",
            " [ 0.75955453]\n",
            " [ 0.75955453]\n",
            " [-1.31656118]\n",
            " [ 0.75955453]\n",
            " [ 0.75955453]\n",
            " [ 0.75955453]\n",
            " [ 0.75955453]\n",
            " [ 0.75955453]\n",
            " [ 0.75955453]\n",
            " [ 0.75955453]\n",
            " [ 0.75955453]\n",
            " [ 0.75955453]\n",
            " [ 0.75955453]\n",
            " [ 0.75955453]\n",
            " [ 0.75955453]\n",
            " [ 0.75955453]\n",
            " [ 0.75955453]\n",
            " [-1.31656118]\n",
            " [ 0.75955453]\n",
            " [-1.31656118]\n",
            " [-1.31656118]\n",
            " [ 0.75955453]\n",
            " [ 0.75955453]\n",
            " [ 0.75955453]\n",
            " [-1.31656118]\n",
            " [-1.31656118]\n",
            " [-1.31656118]\n",
            " [ 0.75955453]\n",
            " [ 0.75955453]\n",
            " [ 0.75955453]\n",
            " [ 0.75955453]\n",
            " [ 0.75955453]\n",
            " [ 0.75955453]\n",
            " [-1.31656118]\n",
            " [ 0.75955453]\n",
            " [ 0.75955453]\n",
            " [ 0.75955453]\n",
            " [ 0.75955453]\n",
            " [-1.31656118]\n",
            " [-1.31656118]\n",
            " [ 0.75955453]\n",
            " [ 0.75955453]\n",
            " [-1.31656118]\n",
            " [ 0.75955453]\n",
            " [ 0.75955453]\n",
            " [ 0.75955453]\n",
            " [-1.31656118]\n",
            " [ 0.75955453]\n",
            " [ 0.75955453]\n",
            " [ 0.75955453]\n",
            " [-1.31656118]\n",
            " [ 0.75955453]\n",
            " [-1.31656118]\n",
            " [ 0.75955453]\n",
            " [-1.31656118]\n",
            " [-1.31656118]\n",
            " [ 0.75955453]\n",
            " [ 0.75955453]\n",
            " [ 0.75955453]\n",
            " [ 0.75955453]\n",
            " [-1.31656118]\n",
            " [-1.31656118]\n",
            " [-1.31656118]\n",
            " [ 0.75955453]\n",
            " [-1.31656118]\n",
            " [ 0.75955453]\n",
            " [-1.31656118]\n",
            " [-1.31656118]\n",
            " [ 0.75955453]\n",
            " [-1.31656118]\n",
            " [ 0.75955453]\n",
            " [-1.31656118]\n",
            " [ 0.75955453]\n",
            " [ 0.75955453]\n",
            " [ 0.75955453]\n",
            " [ 0.75955453]\n",
            " [ 0.75955453]\n",
            " [ 0.75955453]\n",
            " [-1.31656118]\n",
            " [ 0.75955453]\n",
            " [ 0.75955453]\n",
            " [ 0.75955453]\n",
            " [ 0.75955453]\n",
            " [-1.31656118]\n",
            " [ 0.75955453]\n",
            " [-1.31656118]\n",
            " [ 0.75955453]\n",
            " [ 0.75955453]\n",
            " [ 0.75955453]\n",
            " [-1.31656118]\n",
            " [-1.31656118]\n",
            " [ 0.75955453]\n",
            " [-1.31656118]\n",
            " [ 0.75955453]\n",
            " [-1.31656118]\n",
            " [-1.31656118]\n",
            " [ 0.75955453]\n",
            " [-1.31656118]\n",
            " [-1.31656118]\n",
            " [ 0.75955453]\n",
            " [ 0.75955453]\n",
            " [-1.31656118]\n",
            " [ 0.75955453]\n",
            " [ 0.75955453]\n",
            " [ 0.75955453]\n",
            " [-1.31656118]\n",
            " [ 0.75955453]\n",
            " [ 0.75955453]\n",
            " [-1.31656118]\n",
            " [-1.31656118]\n",
            " [ 0.75955453]\n",
            " [ 0.75955453]\n",
            " [ 0.75955453]\n",
            " [ 0.75955453]\n",
            " [ 0.75955453]\n",
            " [ 0.75955453]\n",
            " [ 0.75955453]\n",
            " [ 0.75955453]\n",
            " [ 0.75955453]\n",
            " [ 0.75955453]\n",
            " [ 0.75955453]\n",
            " [-1.31656118]\n",
            " [-1.31656118]\n",
            " [ 0.75955453]\n",
            " [-1.31656118]\n",
            " [-1.31656118]\n",
            " [ 0.75955453]\n",
            " [-1.31656118]\n",
            " [ 0.75955453]\n",
            " [ 0.75955453]\n",
            " [ 0.75955453]\n",
            " [ 0.75955453]\n",
            " [ 0.75955453]\n",
            " [ 0.75955453]\n",
            " [-1.31656118]\n",
            " [ 0.75955453]\n",
            " [-1.31656118]\n",
            " [ 0.75955453]\n",
            " [-1.31656118]\n",
            " [ 0.75955453]\n",
            " [-1.31656118]\n",
            " [-1.31656118]\n",
            " [-1.31656118]\n",
            " [ 0.75955453]\n",
            " [ 0.75955453]\n",
            " [ 0.75955453]\n",
            " [ 0.75955453]\n",
            " [-1.31656118]\n",
            " [-1.31656118]\n",
            " [ 0.75955453]\n",
            " [-1.31656118]\n",
            " [ 0.75955453]\n",
            " [-1.31656118]\n",
            " [-1.31656118]\n",
            " [-1.31656118]\n",
            " [-1.31656118]\n",
            " [-1.31656118]\n",
            " [ 0.75955453]\n",
            " [-1.31656118]\n",
            " [ 0.75955453]\n",
            " [-1.31656118]\n",
            " [ 0.75955453]\n",
            " [ 0.75955453]\n",
            " [ 0.75955453]\n",
            " [-1.31656118]\n",
            " [ 0.75955453]\n",
            " [-1.31656118]\n",
            " [-1.31656118]\n",
            " [ 0.75955453]\n",
            " [ 0.75955453]\n",
            " [ 0.75955453]\n",
            " [ 0.75955453]\n",
            " [-1.31656118]\n",
            " [-1.31656118]\n",
            " [-1.31656118]\n",
            " [-1.31656118]\n",
            " [ 0.75955453]\n",
            " [ 0.75955453]\n",
            " [ 0.75955453]\n",
            " [ 0.75955453]\n",
            " [-1.31656118]\n",
            " [ 0.75955453]\n",
            " [-1.31656118]\n",
            " [ 0.75955453]\n",
            " [ 0.75955453]\n",
            " [ 0.75955453]\n",
            " [-1.31656118]\n",
            " [ 0.75955453]\n",
            " [-1.31656118]\n",
            " [-1.31656118]\n",
            " [ 0.75955453]\n",
            " [ 0.75955453]\n",
            " [-1.31656118]\n",
            " [ 0.75955453]\n",
            " [ 0.75955453]\n",
            " [ 0.75955453]\n",
            " [ 0.75955453]\n",
            " [ 0.75955453]\n",
            " [ 0.75955453]\n",
            " [-1.31656118]\n",
            " [ 0.75955453]\n",
            " [ 0.75955453]]\n"
          ]
        }
      ]
    },
    {
      "cell_type": "code",
      "source": [
        "import pandas as pd\n",
        "from sklearn.linear_model import LinearRegression\n",
        "from sklearn.model_selection import train_test_split\n",
        "\n",
        "\n"
      ],
      "metadata": {
        "id": "11-vyLv-6Twb"
      },
      "execution_count": 40,
      "outputs": []
    },
    {
      "cell_type": "code",
      "source": [
        "#Import Gaussian Naive Bayes model\n",
        "from sklearn.naive_bayes import GaussianNB\n",
        "\n",
        "#Create a Gaussian Classifier\n",
        "gnb = GaussianNB()\n",
        "\n",
        "#Train the model using the training sets\n",
        "gnb.fit(X_trainn.reshape(-1,1), y_trainn.reshape(-1,1))\n",
        "\n",
        "#Predict the response for test dataset\n",
        "y_pred = gnb.predict(X_testtt)\n",
        "print(y_pred)"
      ],
      "metadata": {
        "colab": {
          "base_uri": "https://localhost:8080/"
        },
        "id": "48OmHDBoP6mK",
        "outputId": "0a52cd2a-40a5-4b58-8f29-ef38759dbccc"
      },
      "execution_count": 41,
      "outputs": [
        {
          "output_type": "stream",
          "name": "stdout",
          "text": [
            "[0 1 1 1 1 0 1 0 1 1 0 1 1 0 1 1 1 1 1 1 1 0 1 1 0 0 0 0 1 1 0 1 1 0 1 0 0\n",
            " 0 1 0 0 1 1 1 1 1 0 1 1 1 1 1 1 1 1 1 1 1 1 1 1 0 1 0 0 1 1 1 0 0 0 1 1 1\n",
            " 1 1 1 0 1 1 1 1 0 0 1 1 0 1 1 1 0 1 1 1 0 1 0 1 0 0 1 1 1 1 0 0 0 1 0 1 0\n",
            " 0 1 0 1 0 1 1 1 1 1 1 0 1 1 1 1 0 1 0 1 1 1 0 0 1 0 1 0 0 1 0 0 1 1 0 1 1\n",
            " 1 0 1 1 0 0 1 1 1 1 1 1 1 1 1 1 1 0 0 1 0 0 1 0 1 1 1 1 1 1 0 1 0 1 0 1 0\n",
            " 0 0 1 1 1 1 0 0 1 0 1 0 0 0 0 0 1 0 1 0 1 1 1 0 1 0 0 1 1 1 1 0 0 0 0 1 1\n",
            " 1 1 0 1 0 1 1 1 0 1 0 0 1 1 0 1 1 1 1 1 1 0 1 1]\n"
          ]
        },
        {
          "output_type": "stream",
          "name": "stderr",
          "text": [
            "/usr/local/lib/python3.10/dist-packages/sklearn/utils/validation.py:1143: DataConversionWarning: A column-vector y was passed when a 1d array was expected. Please change the shape of y to (n_samples, ), for example using ravel().\n",
            "  y = column_or_1d(y, warn=True)\n"
          ]
        }
      ]
    }
  ],
  "metadata": {
    "colab": {
      "provenance": [],
      "gpuType": "T4"
    },
    "kernelspec": {
      "display_name": "Python 3",
      "name": "python3"
    },
    "accelerator": "GPU"
  },
  "nbformat": 4,
  "nbformat_minor": 0
}